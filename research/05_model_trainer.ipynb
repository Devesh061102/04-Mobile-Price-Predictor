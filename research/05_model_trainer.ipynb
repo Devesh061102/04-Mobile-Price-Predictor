{
 "cells": [
  {
   "cell_type": "code",
   "execution_count": 1,
   "metadata": {},
   "outputs": [
    {
     "data": {
      "text/plain": [
       "'d:\\\\ML-Projects\\\\04-Mobile-Price-Predictor\\\\research'"
      ]
     },
     "execution_count": 1,
     "metadata": {},
     "output_type": "execute_result"
    }
   ],
   "source": [
    "import os\n",
    "%pwd"
   ]
  },
  {
   "cell_type": "code",
   "execution_count": 2,
   "metadata": {},
   "outputs": [
    {
     "data": {
      "text/plain": [
       "'d:\\\\ML-Projects\\\\04-Mobile-Price-Predictor'"
      ]
     },
     "execution_count": 2,
     "metadata": {},
     "output_type": "execute_result"
    }
   ],
   "source": [
    "os.chdir(\"../\")\n",
    "%pwd"
   ]
  },
  {
   "cell_type": "code",
   "execution_count": 3,
   "metadata": {},
   "outputs": [],
   "source": [
    "import warnings\n",
    "warnings.filterwarnings(\"ignore\")\n"
   ]
  },
  {
   "cell_type": "code",
   "execution_count": 4,
   "metadata": {},
   "outputs": [],
   "source": [
    "from dataclasses import dataclass\n",
    "from pathlib import Path\n",
    "\n",
    "@dataclass(frozen=True)\n",
    "class ModelTrainerConfig:\n",
    "    root_dir: Path\n",
    "    train_data_path : Path\n",
    "    trained_model_path : Path\n",
    "    target_column : str\n",
    "    C : int\n",
    "    gamma : str\n",
    "    kernel : str"
   ]
  },
  {
   "cell_type": "code",
   "execution_count": 5,
   "metadata": {},
   "outputs": [],
   "source": [
    "from Mobile_Price_Predictor.constants import *\n",
    "from Mobile_Price_Predictor.utils.common import read_yaml, create_directories"
   ]
  },
  {
   "cell_type": "code",
   "execution_count": 6,
   "metadata": {},
   "outputs": [],
   "source": [
    "class ConfigurationManager:\n",
    "    def __init__(\n",
    "        self,\n",
    "        config_filepath = CONFIG_FILE_PATH,\n",
    "        params_filepath = PARAMS_FILE_PATH):\n",
    "\n",
    "        self.config = read_yaml(config_filepath)\n",
    "        self.params = read_yaml(params_filepath)\n",
    "\n",
    "        create_directories([self.config.artifacts_root])\n",
    "\n",
    "\n",
    "    \n",
    "    def get_model_trainer_config(self) -> ModelTrainerConfig:\n",
    "        config = self.config.model_trainer\n",
    "        params = self.params.TrainingArguments\n",
    "        \n",
    "        create_directories([config.root_dir])\n",
    "\n",
    "        model_trainer_config = ModelTrainerConfig(\n",
    "            root_dir=config.root_dir,\n",
    "            train_data_path= config.train_data_path,\n",
    "            target_column  = config.target_column,\n",
    "            trained_model_path  = config.trained_model_path,\n",
    "            C = params.C,\n",
    "            gamma = params.gamma,\n",
    "            kernel = params.kernel\n",
    "        )\n",
    "\n",
    "        return model_trainer_config"
   ]
  },
  {
   "cell_type": "code",
   "execution_count": 7,
   "metadata": {},
   "outputs": [],
   "source": [
    "import os\n",
    "from Mobile_Price_Predictor.utils.common import read_yaml, create_directories\n",
    "from Mobile_Price_Predictor.logging import logger\n",
    "from sklearn.svm import SVC\n",
    "from sklearn.metrics import accuracy_score\n",
    "from sklearn.model_selection import train_test_split\n",
    "from sklearn.preprocessing import StandardScaler\n",
    "import joblib\n",
    "import os\n",
    "import pandas as pd"
   ]
  },
  {
   "cell_type": "code",
   "execution_count": 8,
   "metadata": {},
   "outputs": [],
   "source": [
    "class ModelTrainer:\n",
    "    def __init__(self, config: ModelTrainerConfig):\n",
    "        self.config = config\n",
    "\n",
    "        \n",
    "    def train(self):\n",
    "            # Load data (assumes data is in CSV format with features and a target column)\n",
    "            data = pd.read_csv(self.config.train_data_path)\n",
    "            X = data.drop(columns=[self.config.target_column])\n",
    "            y = data[self.config.target_column]\n",
    "\n",
    "            # Split data into train and validation sets\n",
    "            X_train, X_val, y_train, y_val = train_test_split(X, y, test_size=0.2, random_state=42)\n",
    "\n",
    "            # Standardize features\n",
    "            scaler = StandardScaler()\n",
    "            X_train = scaler.fit_transform(X_train)\n",
    "            X_val = scaler.transform(X_val)\n",
    "\n",
    "            # Define the model with hyperparameters\n",
    "            model_svc = SVC(C=self.config.C, gamma=self.config.gamma, kernel=self.config.kernel)\n",
    "\n",
    "\n",
    "            # Train the model\n",
    "            model_svc.fit(X_train, y_train)\n",
    "\n",
    "            # Evaluate the model\n",
    "            y_pred = model_svc.predict(X_val)\n",
    "            accuracy = accuracy_score(y_val, y_pred)\n",
    "            print(f\"Validation Accuracy: {accuracy:.4f}\")\n",
    "\n",
    "            # Save the model and the scaler\n",
    "            model_path = os.path.join(self.config.trained_model_path, \"svc_model.pkl\")\n",
    "            joblib.dump(model_svc, model_path)\n",
    "            logger.info(\"Model Trained and Saved Successfully\")"
   ]
  },
  {
   "cell_type": "code",
   "execution_count": 9,
   "metadata": {},
   "outputs": [
    {
     "name": "stdout",
     "output_type": "stream",
     "text": [
      "[2024-05-22 19:15:56,545: INFO: common: yaml file: config\\config.yaml loaded successfully]\n",
      "[2024-05-22 19:15:56,547: INFO: common: yaml file: params.yaml loaded successfully]\n",
      "[2024-05-22 19:15:56,549: INFO: common: created directory at: artifacts]\n",
      "[2024-05-22 19:15:56,550: INFO: common: created directory at: artifacts/model_trainer]\n",
      "Validation Accuracy: 0.9725\n",
      "[2024-05-22 19:15:56,678: INFO: 2018096513: Model Trained and Saved Successfully]\n"
     ]
    }
   ],
   "source": [
    "try:\n",
    "    config = ConfigurationManager()\n",
    "    model_trainer_config = config.get_model_trainer_config()\n",
    "    model_trainer_config = ModelTrainer(config=model_trainer_config)\n",
    "    model_trainer_config.train()\n",
    "except Exception as e:\n",
    "    raise e"
   ]
  },
  {
   "cell_type": "code",
   "execution_count": null,
   "metadata": {},
   "outputs": [],
   "source": []
  },
  {
   "cell_type": "code",
   "execution_count": null,
   "metadata": {},
   "outputs": [],
   "source": []
  }
 ],
 "metadata": {
  "kernelspec": {
   "display_name": "env",
   "language": "python",
   "name": "python3"
  },
  "language_info": {
   "codemirror_mode": {
    "name": "ipython",
    "version": 3
   },
   "file_extension": ".py",
   "mimetype": "text/x-python",
   "name": "python",
   "nbconvert_exporter": "python",
   "pygments_lexer": "ipython3",
   "version": "3.10.11"
  }
 },
 "nbformat": 4,
 "nbformat_minor": 2
}

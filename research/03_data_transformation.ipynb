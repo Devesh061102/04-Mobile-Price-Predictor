{
 "cells": [
  {
   "cell_type": "code",
   "execution_count": 1,
   "metadata": {},
   "outputs": [
    {
     "data": {
      "text/plain": [
       "'d:\\\\ML-Projects\\\\04-Mobile-Price-Predictor\\\\research'"
      ]
     },
     "execution_count": 1,
     "metadata": {},
     "output_type": "execute_result"
    }
   ],
   "source": [
    "import os\n",
    "%pwd"
   ]
  },
  {
   "cell_type": "code",
   "execution_count": 2,
   "metadata": {},
   "outputs": [
    {
     "data": {
      "text/plain": [
       "'d:\\\\ML-Projects\\\\04-Mobile-Price-Predictor'"
      ]
     },
     "execution_count": 2,
     "metadata": {},
     "output_type": "execute_result"
    }
   ],
   "source": [
    "os.chdir(\"../\")\n",
    "%pwd"
   ]
  },
  {
   "cell_type": "code",
   "execution_count": 3,
   "metadata": {},
   "outputs": [],
   "source": [
    "import warnings\n",
    "warnings.filterwarnings(\"ignore\")"
   ]
  },
  {
   "cell_type": "code",
   "execution_count": 4,
   "metadata": {},
   "outputs": [],
   "source": [
    "from dataclasses import dataclass\n",
    "from pathlib import Path\n",
    "\n",
    "\n",
    "@dataclass(frozen=True)\n",
    "class DataTransformationConfig:\n",
    "    root_dir: Path\n",
    "    train_data_path: Path\n",
    "    test_data_path: Path"
   ]
  },
  {
   "cell_type": "code",
   "execution_count": 5,
   "metadata": {},
   "outputs": [],
   "source": [
    "from Mobile_Price_Predictor.constants import *\n",
    "from Mobile_Price_Predictor.utils.common import read_yaml, create_directories"
   ]
  },
  {
   "cell_type": "code",
   "execution_count": 6,
   "metadata": {},
   "outputs": [],
   "source": [
    "class ConfigurationManager:\n",
    "    def __init__(\n",
    "        self,\n",
    "        config_filepath = CONFIG_FILE_PATH,\n",
    "        params_filepath = PARAMS_FILE_PATH):\n",
    "\n",
    "        self.config = read_yaml(config_filepath)\n",
    "        self.params = read_yaml(params_filepath)\n",
    "\n",
    "        create_directories([self.config.artifacts_root])\n",
    "\n",
    "\n",
    "    \n",
    "    def get_data_transformation_config(self) -> DataTransformationConfig:\n",
    "        config = self.config.data_transformation\n",
    "\n",
    "        create_directories([config.root_dir])\n",
    "\n",
    "        data_transformation_config = DataTransformationConfig(\n",
    "            root_dir=config.root_dir,\n",
    "            train_data_path = config.train_data_path,\n",
    "            test_data_path = config.test_data_path\n",
    "        )\n",
    "\n",
    "        return data_transformation_config"
   ]
  },
  {
   "cell_type": "code",
   "execution_count": 9,
   "metadata": {},
   "outputs": [],
   "source": [
    "import os\n",
    "from Mobile_Price_Predictor.utils.common import read_yaml, create_directories\n",
    "from Mobile_Price_Predictor.logging import logger\n",
    "import pandas as pd\n",
    "import numpy as np "
   ]
  },
  {
   "cell_type": "code",
   "execution_count": 12,
   "metadata": {},
   "outputs": [],
   "source": [
    "class DataTransformation:\n",
    "    def __init__(self, config: DataTransformationConfig):\n",
    "        self.config = config\n",
    "\n",
    "    def transform_data(self, df, m_dep_threshold=0.5, px_height_threshold=65, sc_w_threshold=2.54):\n",
    "        \"\"\"\n",
    "        Apply transformations to the data.\n",
    "\n",
    "        Parameters:\n",
    "        df (DataFrame): The data to transform.\n",
    "        is_train (bool): Whether the data is training data or test data.\n",
    "        m_dep_threshold (float): The threshold for 'm_dep' column.\n",
    "        px_height_threshold (int): The threshold for 'px_height' column.\n",
    "        sc_w_threshold (float): The threshold for 'sc_w' column.\n",
    "\n",
    "        Returns:\n",
    "        DataFrame: The transformed data.\n",
    "        \"\"\"\n",
    "        if not isinstance(df, pd.DataFrame):\n",
    "            raise TypeError(\"Expected input to be a pandas DataFrame\")\n",
    "\n",
    "        df.loc[df[\"m_dep\"] < m_dep_threshold, \"m_dep\"] = m_dep_threshold\n",
    "        df.loc[df[\"px_height\"] < px_height_threshold, \"px_height\"] = px_height_threshold\n",
    "        df.loc[df[\"sc_w\"] < sc_w_threshold, \"sc_w\"] = sc_w_threshold\n",
    "\n",
    "        return df\n",
    "\n",
    "    def convert(self):\n",
    "        # Read the data\n",
    "        train_data = pd.read_csv(self.config.train_data_path)\n",
    "        test_data = pd.read_csv(self.config.test_data_path)\n",
    "        logger.info(\"Data read successfully\")\n",
    "\n",
    "        # Transform the data\n",
    "        train_data = self.transform_data(train_data )\n",
    "        test_data = self.transform_data(test_data)\n",
    "        test_data.drop(['id'], axis=1, inplace=True)\n",
    "        logger.info(\"Data transformed successfully\")\n",
    "        \n",
    "        train_data.to_csv(os.path.join(self.config.root_dir, \"train_data.csv\"))\n",
    "        test_data.to_csv(os.path.join(self.config.root_dir, \"test_data.csv\"))\n",
    "        logger.info(\"Train and Test data made successfully\")\n"
   ]
  },
  {
   "cell_type": "code",
   "execution_count": 13,
   "metadata": {},
   "outputs": [
    {
     "name": "stdout",
     "output_type": "stream",
     "text": [
      "[2024-05-20 23:22:40,840: INFO: common: yaml file: config\\config.yaml loaded successfully]\n",
      "[2024-05-20 23:22:40,841: INFO: common: yaml file: params.yaml loaded successfully]\n",
      "[2024-05-20 23:22:40,842: INFO: common: created directory at: artifacts]\n",
      "[2024-05-20 23:22:40,842: INFO: common: created directory at: artifacts/data_transformation]\n",
      "[2024-05-20 23:22:40,850: INFO: 4096429100: Data read successfully]\n",
      "[2024-05-20 23:22:40,854: INFO: 4096429100: Data Transformed successfully]\n",
      "[2024-05-20 23:22:40,871: INFO: 4096429100: Train and Test data made successfully]\n"
     ]
    }
   ],
   "source": [
    "try:\n",
    "    config = ConfigurationManager()\n",
    "    data_transformation_config = config.get_data_transformation_config()\n",
    "    data_transformation = DataTransformation(config=data_transformation_config)\n",
    "    data_transformation.convert()\n",
    "except Exception as e:\n",
    "    raise e"
   ]
  }
 ],
 "metadata": {
  "kernelspec": {
   "display_name": "env",
   "language": "python",
   "name": "python3"
  },
  "language_info": {
   "codemirror_mode": {
    "name": "ipython",
    "version": 3
   },
   "file_extension": ".py",
   "mimetype": "text/x-python",
   "name": "python",
   "nbconvert_exporter": "python",
   "pygments_lexer": "ipython3",
   "version": "3.10.11"
  }
 },
 "nbformat": 4,
 "nbformat_minor": 2
}
